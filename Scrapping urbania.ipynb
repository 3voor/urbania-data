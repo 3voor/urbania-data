{
 "cells": [
  {
   "cell_type": "markdown",
   "metadata": {},
   "source": [
    "## Scrapping urbania\n",
    "\n",
    "The goal of this notebook is to scrape data from https://urbania.pe/ and store it on a mongo databse"
   ]
  },
  {
   "cell_type": "markdown",
   "metadata": {},
   "source": [
    "### Libraries import"
   ]
  },
  {
   "cell_type": "code",
   "execution_count": 1,
   "metadata": {},
   "outputs": [],
   "source": [
    "import math\n",
    "import numpy as np\n",
    "import pymongo\n",
    "import re \n",
    "import urllib.request as urllib2\n",
    "import datetime\n",
    "\n",
    "from time import sleep\n",
    "from bs4 import BeautifulSoup\n",
    "\n",
    "from constants import *"
   ]
  },
  {
   "cell_type": "code",
   "execution_count": 2,
   "metadata": {},
   "outputs": [],
   "source": [
    "# bsae urls to use\n",
    "base_url = 'https://urbania.pe{}'\n",
    "apartments_url = 'https://urbania.pe/buscar/venta-de-departamentos'\n"
   ]
  },
  {
   "cell_type": "markdown",
   "metadata": {},
   "source": [
    "### Define database connections"
   ]
  },
  {
   "cell_type": "code",
   "execution_count": 5,
   "metadata": {},
   "outputs": [],
   "source": [
    "uri = \"mongodb://{}:{}@{}/{}\".format(username, password, hostlist, database)\n",
    "client = pymongo.MongoClient(uri)\n",
    "db = client['urbania']"
   ]
  },
  {
   "cell_type": "code",
   "execution_count": 6,
   "metadata": {},
   "outputs": [
    {
     "data": {
      "text/plain": [
       "[{'_id': ObjectId('5deb3aba3dadd940d2148a36'), 'name': 'gonzalo'},\n",
       " {'_id': ObjectId('5dec891299df02824e747081'), 'name': 'jay'}]"
      ]
     },
     "execution_count": 6,
     "metadata": {},
     "output_type": "execute_result"
    }
   ],
   "source": [
    "list(db['admin'].find())"
   ]
  },
  {
   "cell_type": "code",
   "execution_count": 7,
   "metadata": {},
   "outputs": [],
   "source": [
    "apartmentsdb = db['apartments']"
   ]
  },
  {
   "cell_type": "markdown",
   "metadata": {},
   "source": [
    "### Here we put the logic to get the data"
   ]
  },
  {
   "cell_type": "code",
   "execution_count": 13,
   "metadata": {},
   "outputs": [],
   "source": [
    "def getSoupObj(url):\n",
    "    sleep(1.5)\n",
    "    try:\n",
    "        r = urllib2.urlopen(url)\n",
    "    except UnicodeEncodeError as e:\n",
    "        return None\n",
    "    html = r.read()\n",
    "    htmltext = html.decode('ISO-8859-2')\n",
    "    return BeautifulSoup(htmltext, 'lxml')"
   ]
  },
  {
   "cell_type": "code",
   "execution_count": 14,
   "metadata": {
    "scrolled": false
   },
   "outputs": [
    {
     "name": "stdout",
     "output_type": "stream",
     "text": [
      "In page 1 we found 14 apartments\n",
      "\n",
      "\n",
      "EN CONSTRUCCIĂN\n",
      "ENTREGA DICIEMBRE 2020\n",
      "\n",
      "\n",
      "Tipos Dptos.\n",
      "Residencial\n",
      "\n",
      "\n",
      "Dpto.\n",
      "Lima\n",
      "\n",
      "\n",
      "Provincia\n",
      "Lima\n",
      "\n",
      "\n",
      "Distrito\n",
      "San Borja\n",
      "\n",
      "\n",
      "Urb.\n",
      "Corpac\n",
      "\n",
      "\n",
      "Referencia\n",
      "A POCOS METROS DE AV. GUARDIA CIVIL Y AV.  SAN BORJA NORTE, RODEADO DE ĂREAS VERDES\n",
      "\n",
      "\n"
     ]
    }
   ],
   "source": [
    "tihs = 10000\n",
    "count = 1\n",
    "while count < 5:\n",
    "    hdr = {'User-Agent': 'Mozilla/5.0'}\n",
    "    req = urllib2.Request(apartments_url, headers=hdr)\n",
    "    apartmentsBsObj = getSoupObj(req)\n",
    "    \n",
    "    objs = apartmentsBsObj.findAll('article', {'class': 'b-card-item js-card-item b-card-item--proyecto-destacado'})\n",
    "#     objsSeen = apartmentsBsObj\n",
    "    print('In page {} we found {} apartments'.format(count, len(objs)))\n",
    "    for obj in objs:\n",
    "        \n",
    "#         the objA is the object with <a> label in obj\n",
    "        objA = obj.find('a')\n",
    "        if objA is None: continue\n",
    "            \n",
    "#         objA = objA.text\n",
    "        apartment = {}\n",
    "        \n",
    "        apartment['_id'] = obj['data-identifier']\n",
    "        apartment['url'] = objA['href']\n",
    "#         print(type(obj), type(objA))\n",
    "#         print(obj['data-identifier'])\n",
    "        get_apartment(apartment)\n",
    "#         print(apartment)\n",
    "        break\n",
    "    count +=1\n",
    "    break"
   ]
  },
  {
   "cell_type": "code",
   "execution_count": 10,
   "metadata": {},
   "outputs": [],
   "source": [
    "def get_apartment(apartment):\n",
    "    \n",
    "    apartment_url = base_url.format(apartment['url'])\n",
    "#     print(apartment_url)\n",
    "    req = urllib2.Request(apartment_url)\n",
    "    apartmentObj = getSoupObj(req)\n",
    "#     print(apartmentObj)\n",
    "    \n",
    "    if apartmentObj == -1:\n",
    "        return\n",
    "    \n",
    "    get_text(apartment, apartmentObj, 'title', 'e-title e-subtitle--with-logo', 'h1')\n",
    "    get_text(apartment, apartmentObj, 'address', 'e-subtitle e-subtitle--with-logo', 'p')\n",
    "    get_text(apartment, apartmentObj, 'features', 'e-features', 'p')\n",
    "    get_text(apartment, apartmentObj, 'intial_price', 'e-totalPrice', 'p')\n",
    "    print(get_text(apartment, apartmentObj, 'intial_price', 'b-wrap-interbank u-flex-wrap', 'div', False))\n",
    "    \n",
    "    \n",
    "#     print(apartment)\n",
    "#     print(address.text)\n"
   ]
  },
  {
   "cell_type": "code",
   "execution_count": 11,
   "metadata": {},
   "outputs": [],
   "source": [
    "def get_text(obj, objBs, feature, tag, marker, inplace=True):\n",
    "    new_feature = objBs.find(marker, {'class': tag})\n",
    "    obj[feature] = new_feature.text\n",
    "    if inplace ==False:\n",
    "        return new_feature.text"
   ]
  },
  {
   "cell_type": "code",
   "execution_count": null,
   "metadata": {},
   "outputs": [],
   "source": [
    "def get_real_estate(real_estate):\n",
    "    "
   ]
  }
 ],
 "metadata": {
  "kernelspec": {
   "display_name": "Python 3",
   "language": "python",
   "name": "python3"
  },
  "language_info": {
   "codemirror_mode": {
    "name": "ipython",
    "version": 3
   },
   "file_extension": ".py",
   "mimetype": "text/x-python",
   "name": "python",
   "nbconvert_exporter": "python",
   "pygments_lexer": "ipython3",
   "version": "3.7.4"
  }
 },
 "nbformat": 4,
 "nbformat_minor": 2
}
