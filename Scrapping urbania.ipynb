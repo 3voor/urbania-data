{
 "cells": [
  {
   "cell_type": "markdown",
   "metadata": {},
   "source": [
    "## Scrapping urbania\n",
    "\n",
    "The goal of this notebook is to scrape data from https://urbania.pe/ and store it on a mongo databse"
   ]
  },
  {
   "cell_type": "markdown",
   "metadata": {},
   "source": [
    "### Libraries import"
   ]
  },
  {
   "cell_type": "code",
   "execution_count": 144,
   "metadata": {},
   "outputs": [],
   "source": [
    "import math\n",
    "import numpy as np\n",
    "import pymongo\n",
    "import re \n",
    "import urllib.request as urllib2\n",
    "import datetime\n",
    "\n",
    "from time import sleep\n",
    "from bs4 import BeautifulSoup\n",
    "\n",
    "from constants import *"
   ]
  },
  {
   "cell_type": "code",
   "execution_count": 103,
   "metadata": {},
   "outputs": [],
   "source": [
    "# bsae urls to use\n",
    "base_url = 'https://urbania.pe{}'\n",
    "apartments_url = 'https://urbania.pe/buscar/venta-de-departamentos'\n"
   ]
  },
  {
   "cell_type": "markdown",
   "metadata": {},
   "source": [
    "### Define database connections"
   ]
  },
  {
   "cell_type": "code",
   "execution_count": 145,
   "metadata": {},
   "outputs": [],
   "source": [
    "uri = \"mongodb://{}:{}@{}/{}\".format(username, password, hostlist, database)\n",
    "client = pymongo.MongoClient(uri)\n",
    "db = client['urbania']"
   ]
  },
  {
   "cell_type": "code",
   "execution_count": 146,
   "metadata": {},
   "outputs": [
    {
     "data": {
      "text/plain": [
       "[{'_id': ObjectId('5deb3aba3dadd940d2148a36'), 'name': 'gonzalo'},\n",
       " {'_id': ObjectId('5dec891299df02824e747081'), 'name': 'jay'}]"
      ]
     },
     "execution_count": 146,
     "metadata": {},
     "output_type": "execute_result"
    }
   ],
   "source": [
    "list(db['admin'].find())"
   ]
  },
  {
   "cell_type": "code",
   "execution_count": 77,
   "metadata": {},
   "outputs": [],
   "source": [
    "apartmentsdb = db['apartments']"
   ]
  },
  {
   "cell_type": "markdown",
   "metadata": {},
   "source": [
    "### Here we put the logic to get the data"
   ]
  },
  {
   "cell_type": "code",
   "execution_count": 53,
   "metadata": {},
   "outputs": [],
   "source": [
    "def getSoupObj(url):\n",
    "    sleep(1.5)\n",
    "    try:\n",
    "        r = urllib2.urlopen(url)\n",
    "    except UnicodeEncodeError as e:\n",
    "        return None\n",
    "    html = r.read()\n",
    "    htmltext = html.decode('utf-8')\n",
    "    return BeautifulSoup(htmltext, 'lxml')"
   ]
  },
  {
   "cell_type": "code",
   "execution_count": 142,
   "metadata": {
    "scrolled": false
   },
   "outputs": [
    {
     "name": "stdout",
     "output_type": "stream",
     "text": [
      "In page 1 we found 15 apartments\n",
      "{'_id': '4791', 'url': '/inmueble/proyecto-san-tadeo-173-lima-santiago-de-surco-gs-proyecto-inmobiliario-sac-4791', 'title': 'Proyecto San Tadeo 173', 'address': 'Calle San Tadeo #173 Santiago De Surco, Lima, Lima', 'features': '128.00 - 229.00 m2 | 2 a 3 Dorm. | 2 Baños'}\n",
      "{'_id': '4174', 'url': '/inmueble/proyecto-residencial-san-martin-lima-magdalena-del-mar-wallong-peru-sac-4174', 'title': 'Proyecto Residencial San Martin', 'address': 'Jr. San Martin 514, Magdalena  Magdalena Del Mar, Lima, Lima', 'features': '70.00 - 88.11 m2 | 2 a 3 Dorm. | 2 Baños'}\n",
      "{'_id': '4514', 'url': '/inmueble/proyecto-w-worldclass-ya-iniciamos-obra-lima-san-isidro-aviva-inmobiliaria--4514', 'title': 'Proyecto \"W-WORLDCLASS\" - YA INICIAMOS OBRA', 'address': 'Calle Los Cisnes 395  San Isidro, Lima, Lima', 'features': '72.31 - 264.01 m2 | 1 a 3 Dorm. | 1 a 4 Baños'}\n",
      "{'_id': '4712', 'url': '/inmueble/proyecto-natural-lima-san-borja-aviva-inmobiliaria--4712', 'title': 'Proyecto \"NATURAL\"', 'address': 'Av. De Las Artes Norte 1482 San Borja,  Urb. San Borja, Lima, Lima', 'features': '91.40 - 202.03 m2 | 3 a 4 Dorm. | 2 a 4 Baños'}\n",
      "{'_id': '4454', 'url': '/inmueble/proyecto-urban-collection-magdalena-lima-magdalena-del-mar-aviva-inmobiliaria--4454', 'title': 'Proyecto URBAN COLLECTION MAGDALENA', 'address': 'Jr. Echenique 601 - 623  Magdalena Del Mar, Lima, Lima', 'features': '40.03 - 143.02 m2 | 1 a 3 Dorm. | 1 a 2 Baños'}\n",
      "{'_id': '2712', 'url': '/inmueble/proyecto-condominio-hometown-en-san-borja-lima-san-borja-compass-2712', 'title': 'Proyecto Condominio \"HOMETOWN\" en San Borja', 'address': 'Calle Durero 490 San Borja, Lima, Lima', 'features': '63.00 - 232.00 m2 | 1 a 3 Dorm. | 2 a 5+ Baños'}\n",
      "{'_id': '4796', 'url': '/inmueble/proyecto-residencial-ecopark-50-dscto-en-tu-cuota-inicial-lima-san-miguel-marina-park--4796', 'title': 'Proyecto Residencial Ecopark - 50% DSCTO. EN TU CUOTA INICIAL', 'address': 'Calle hernando de Soto 224 - 226 San Miguel, Lima, Lima', 'features': '40.00 - 72.00 m2 | 1 a 3 Dorm. | 1 a 2 Baños'}\n",
      "{'_id': '4494', 'url': '/inmueble/proyecto-ob350-50-dscto-en-tu-cuota-inicial-vive-frente-al-mar-lima-san-miguel-casa-y-gestion-4494', 'title': 'Proyecto OB350-¡50% dscto. EN TU CUOTA INICIAL! VIVE FRENTE AL MAR', 'address': 'Av. Bertolotto 350 San Miguel, Lima, Lima', 'features': '73.00 - 81.90 m2 | 2 a 3 Dorm. | 2 Baños'}\n",
      "{'_id': '4673', 'url': '/inmueble/proyecto-torre-tagle-161-a-dos-cuadras-del-malecon-y-segundo-ovalo-de-pardo-lima-miraflores-xyz-inmobiliaria-4673', 'title': 'Proyecto Torre Tagle 161 - A dos cuadras del Malecón y Segundo Ovalo de Pardo', 'address': 'Torre tagle 161, Miraflores Miraflores,  Urb. Santa Cruz, Lima, Lima', 'features': '90.26 - 245.65 m2 | 2 a 3 Dorm. | 2 a 3 Baños'}\n",
      "{'_id': '4440', 'url': '/inmueble/proyecto-penthouse-desde-50000-de-dscto-precios-de-pre-venta-lima-san-isidro-grupo-trivelli-inmobiliaria-sac-4440', 'title': 'Proyecto PENTHOUSE DESDE $50,000 DE DSCTO  - Precios de Pre venta', 'address': 'Barrenechea 790 San Isidro,  Urb. Corpac, Lima, Lima', 'features': '126.79 - 294.94 m2 | 2 a 3 Dorm. | 3 a 4 Baños'}\n",
      "{'_id': '4425', 'url': '/inmueble/proyecto-harmony-ultimo-departamento-lima-san-miguel-grupo-inmobiliario-brocksa-4425', 'title': 'Proyecto HARMONY – Último departamento', 'address': 'Calle Calderón de la Barca 166-168 San Miguel, Lima, Lima', 'features': '73.20 m2 | 2 Dorm. | 2 Baños'}\n",
      "{'_id': '4161', 'url': '/inmueble/proyecto-vanguard-lima-san-miguel-grupo-inmobiliario-brocksa-4161', 'title': 'Proyecto VANGUARD', 'address': 'Jirón Sucre 597 San Miguel, Lima, Lima', 'features': '67.00 - 96.00 m2 | 2 a 3 Dorm. | 2 Baños'}\n",
      "{'_id': '4777', 'url': '/inmueble/proyecto-grimaldo-430-lima-miraflores-vv-grupo-inmobiliario-4777', 'title': 'Proyecto Grimaldo 430', 'address': 'Calle Grimaldo del Solar 430 Miraflores, Lima, Lima', 'features': '60.00 - 94.00 m2 | 1 a 3 Dorm. | 1 a 2 Baños'}\n",
      "{'_id': '4522', 'url': '/inmueble/proyecto-esen-ya-en-construccion-lima-santiago-de-surco-vidarq-inmobiliaria-4522', 'title': 'Proyecto ESEN - YA EN CONSTRUCCIÓN', 'address': 'Av. Prolongación Paseo de la República cuadra 78  Santiago De Surco,  Urb. Los Rosales, Lima, Lima', 'features': '100.00 - 121.30 m2 | 3 Dorm. | 3 Baños'}\n",
      "{'_id': '3620', 'url': '/inmueble/proyecto-residencial-costa-sur-chorrillos-barranco-lima-barranco-tale-inmobiliaria-3620', 'title': 'Proyecto Residencial Costa Sur  Chorrillos-Barranco.', 'address': 'Calle Othon Gastañeta 190. Barranco, Lima, Lima', 'features': '96.28 - 175.55 m2 | 3 Dorm. | 2 Baños'}\n"
     ]
    }
   ],
   "source": [
    "tihs = 10000\n",
    "count = 1\n",
    "while count < 5:\n",
    "    hdr = {'User-Agent': 'Mozilla/5.0'}\n",
    "    req = urllib2.Request(apartments_url, headers=hdr)\n",
    "    apartmentsBsObj = getSoupObj(req)\n",
    "    \n",
    "    objs = apartmentsBsObj.findAll('article', {'class': 'b-card-item js-card-item b-card-item--proyecto-destacado'})\n",
    "#     objsSeen = apartmentsBsObj\n",
    "    print('In page {} we found {} apartments'.format(count, len(objs)))\n",
    "    for obj in objs:\n",
    "        \n",
    "#         the objA is the object with <a> label in obj\n",
    "        objA = obj.find('a')\n",
    "        if objA is None: continue\n",
    "            \n",
    "#         objA = objA.text\n",
    "        apartment = {}\n",
    "        \n",
    "        apartment['_id'] = obj['data-identifier']\n",
    "        apartment['url'] = objA['href']\n",
    "#         print(type(obj), type(objA))\n",
    "#         print(obj['data-identifier'])\n",
    "        get_apartment(apartment)\n",
    "        print(apartment)\n",
    "#         break\n",
    "    count +=1\n",
    "    break"
   ]
  },
  {
   "cell_type": "code",
   "execution_count": 147,
   "metadata": {},
   "outputs": [],
   "source": [
    "def get_apartment(apartment):\n",
    "    \n",
    "    apartment_url = base_url.format(apartment['url'])\n",
    "#     print(apartment_url)\n",
    "    req = urllib2.Request(apartment_url)\n",
    "    apartmentObj = getSoupObj(req)\n",
    "#     print(apartmentObj)\n",
    "    \n",
    "    if apartmentObj == -1:\n",
    "        return\n",
    "    \n",
    "    get_text(apartment, apartmentObj, 'title', 'e-title e-subtitle--with-logo', 'h1')\n",
    "    get_text(apartment, apartmentObj, 'address', 'e-subtitle e-subtitle--with-logo', 'p')\n",
    "    get_text(apartment, apartmentObj, 'features', 'e-features', 'p')\n",
    "    get_text(apartment, apartmentObj, 'intial_price', 'e-totalPrice', 'p')\n",
    "    get_text(apartment, apartmentObj, 'intial_price', 'e-totalPrice', 'p')\n",
    "    \n",
    "#     print(apartment)\n",
    "#     print(address.text)"
   ]
  },
  {
   "cell_type": "code",
   "execution_count": 138,
   "metadata": {},
   "outputs": [],
   "source": [
    "def get_text(obj, objBs, feature, tag, marker):\n",
    "    new_feature = objBs.find(marker, {'class': tag})\n",
    "    obj[feature] = new_feature.text"
   ]
  }
 ],
 "metadata": {
  "kernelspec": {
   "display_name": "Python 3",
   "language": "python",
   "name": "python3"
  },
  "language_info": {
   "codemirror_mode": {
    "name": "ipython",
    "version": 3
   },
   "file_extension": ".py",
   "mimetype": "text/x-python",
   "name": "python",
   "nbconvert_exporter": "python",
   "pygments_lexer": "ipython3",
   "version": "3.7.4"
  }
 },
 "nbformat": 4,
 "nbformat_minor": 2
}
