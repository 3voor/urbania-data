{
 "cells": [
  {
   "cell_type": "markdown",
   "metadata": {},
   "source": [
    "## Scrapping urbania\n",
    "\n",
    "The goal of this notebook is to scrape data from https://urbania.pe/ and store it on a mongo databse"
   ]
  },
  {
   "cell_type": "markdown",
   "metadata": {},
   "source": [
    "### Libraries import"
   ]
  },
  {
   "cell_type": "code",
   "execution_count": 1,
   "metadata": {},
   "outputs": [],
   "source": [
    "import math\n",
    "import numpy as np\n",
    "import pymongo\n",
    "import re \n",
    "import urllib.request as urllib2\n",
    "import datetime\n",
    "\n",
    "from time import sleep\n",
    "from bs4 import BeautifulSoup\n",
    "\n",
    "from constants import *"
   ]
  },
  {
   "cell_type": "code",
   "execution_count": 2,
   "metadata": {},
   "outputs": [],
   "source": [
    "# bsae urls to use\n",
    "base_url = 'https://urbania.pe{}'\n",
    "apartments_url = 'https://urbania.pe/buscar/venta-de-departamentos'\n"
   ]
  },
  {
   "cell_type": "markdown",
   "metadata": {},
   "source": [
    "### Define database connections"
   ]
  },
  {
   "cell_type": "code",
   "execution_count": 5,
   "metadata": {},
   "outputs": [],
   "source": [
    "uri = \"mongodb://{}:{}@{}/{}\".format(username, password, hostlist, database)\n",
    "client = pymongo.MongoClient(uri)\n",
    "db = client['urbania']"
   ]
  },
  {
   "cell_type": "code",
   "execution_count": 29,
   "metadata": {},
   "outputs": [
    {
     "data": {
      "text/plain": [
       "[{'_id': ObjectId('5deb3aba3dadd940d2148a36'), 'name': 'gonzalo'},\n",
       " {'_id': ObjectId('5dec891299df02824e747081'), 'name': 'jay'}]"
      ]
     },
     "execution_count": 29,
     "metadata": {},
     "output_type": "execute_result"
    }
   ],
   "source": [
    "list(db['admin'].find())"
   ]
  },
  {
   "cell_type": "code",
   "execution_count": 7,
   "metadata": {},
   "outputs": [],
   "source": [
    "apartmentsdb = db['apartments']"
   ]
  },
  {
   "cell_type": "markdown",
   "metadata": {},
   "source": [
    "### Here we put the logic to get the data"
   ]
  },
  {
   "cell_type": "code",
   "execution_count": 13,
   "metadata": {},
   "outputs": [],
   "source": [
    "def getSoupObj(url):\n",
    "    sleep(1.5)\n",
    "    try:\n",
    "        r = urllib2.urlopen(url)\n",
    "    except UnicodeEncodeError as e:\n",
    "        return None\n",
    "    html = r.read()\n",
    "    htmltext = html.decode('ISO-8859-2')\n",
    "    return BeautifulSoup(htmltext, 'lxml')"
   ]
  },
  {
   "cell_type": "code",
   "execution_count": 159,
   "metadata": {},
   "outputs": [],
   "source": [
    "dictionary = {\n",
    "    'Tipos Dptos.': 'apartment_type',\n",
    "    'Dpto.': 'department',\n",
    "    'Provincia': 'province',\n",
    "    'Distrito': 'district',\n",
    "    'Urb.': 'urbanization',\n",
    "    'Torres': 'towers',\n",
    "    'Inmuebles': 'properties',\n",
    "    'Ascensores': 'elevators',\n",
    "    'NÂ°pisos': 'n_floors',\n",
    "    'Cocheras': 'garages',\n",
    "    'Referencia': 'reference',\n",
    "    'Construye': 'builds',\n",
    "    'Comercializa': 'sells',\n",
    "    'Financia': 'finances'\n",
    "}"
   ]
  },
  {
   "cell_type": "code",
   "execution_count": 199,
   "metadata": {
    "scrolled": true
   },
   "outputs": [
    {
     "name": "stdout",
     "output_type": "stream",
     "text": [
      "https://urbania.pe/buscar/venta-de-departamentos\n",
      "<class 'bs4.BeautifulSoup'>\n",
      "In page 1 we found 15 apartments\n",
      "{'url': '/inmueble/proyecto-vizuale-lima-lince-inmobiliaria-ortiz-empresa-8004416', 'title': 'Vizuale', 'address': 'AV. AREQUIPA 2426, Lince, Lima'}\n",
      "{'url': '/inmueble/proyecto-jose-gonzales-685-nuevo-proyecto-miraflores-armendariz-constructora-titan-s-a-empresa-8004749', 'title': 'JosĂŠ Gonzales 685 - Nuevo Proyecto', 'address': 'Calle JosĂŠ Gonzales NÂ° 685, ARMENDARIZ, Miraflores'}\n",
      "{'url': '/inmueble/proyecto-suburbia-toma-jesus-maria-lima-jesus-maria-al-punto-empresa-8004784', 'title': 'Suburbia, Toma JesĂşs Maria', 'address': 'Natalio Sanchez 287, JesĂşs MarĂ\\xada, Lima'}\n",
      "{'url': '/inmueble/proyecto-vanguard-en-construccion-lima-san-miguel-grupo-inmobiliario-brocksa-sac-empresa-8004161', 'title': 'Vanguard - ÂĄEn ConstrucciĂłn', 'address': 'JirĂłn Sucre 597, San Miguel, Lima'}\n",
      "{'url': '/inmueble/proyecto-inclan-1010-ultimo-flat-con-entrega-inmediata-en-miraflores-lima-miraflores-constructora-titan-s-a-empresa-8004365', 'title': 'Inclan 1010 - Ă\\x9altimo Flat con Entrega Inmediata en Miraflores', 'address': 'Calle Coronel InclĂĄn 1010, Miraflores, Lima'}\n",
      "{'url': '/inmueble/proyecto-real-805-lima-surquillo-real-edificaciones-edificaciones-empresa-8004162', 'title': 'Real 805', 'address': 'Avenida Principal 805, Surquillo, Surquillo, Lima'}\n",
      "{'url': '/inmueble/proyecto-torre-valdelomar-pueblo-libre-el-carmen-construct-e-inmobiliaria-san-miguel-srl-empresa-8004702', 'title': 'Torre Valdelomar', 'address': 'JIRON ABRAHAM VALDELOMAR 664 - URBANIZACIĂ\\x93N EL CARMEN - DISTRITO DE PUEBLO LIBRE, EL CARMEN, Pueblo Libre'}\n",
      "{'url': '/inmueble/proyecto-torre-tagle-161-a-dos-cuadras-del-malecon-y-segundo-ovalo-de-pardo-miraflores-santa-cruz-xyz-inmobiliaria-xyz-empresa-8004673', 'title': 'Torre Tagle 161 - a Dos Cuadras del MalecĂłn y Segundo Ovalo de Pardo', 'address': 'Torre tagle 161, Miraflores, SANTA CRUZ, Miraflores'}\n",
      "{'url': '/inmueble/proyecto-altea-condominio-lima-magdalena-inmobiliaria-eureka-sac-empresa-8003929', 'title': 'Altea Condominio', 'address': 'Jr. Hermilio Valdizan NÂ°150 Magdalena, Magdalena, Lima'}\n",
      "{'url': '/inmueble/proyecto-muv-lima-santiago-de-surco-promotora-inmobiliaria-monterrico-s-ac-empresa-8004788', 'title': 'Muv', 'address': 'Jr Nicolas Rodrigo 250 , Santiago de Surco, Lima'}\n",
      "{'url': '/inmueble/proyecto-san-tadeo-173-santiago-de-surco-las-violetas-gs-proyecto-inmobiliario-sac-empresa-8004791', 'title': 'San Tadeo 173', 'address': 'Calle San Tadeo  173, LAS VIOLETAS, Santiago de Surco'}\n",
      "{'url': '/inmueble/proyecto-penthouse-desde-$50-000-de-dscto-precios-de-pre-venta-san-isidro-corpac-grupo-trivelli-inmobiliario-sac-empresa-8004440', 'title': 'Penthouse Desde $50,000 de Dscto - Precios de Pre Venta', 'address': 'Barrenechea 790, CORPAC, San Isidro'}\n",
      "{'url': '/inmueble/proyecto-pronto-inicio-de-obra-parque-sur-459-san-isidro-corpac-grupo-trivelli-inmobiliario-sac-empresa-8004744', 'title': 'ÂĄPronto Inicio de Obra! - Parque Sur 459', 'address': 'Av. Parque Sur  459, CORPAC, San Isidro'}\n",
      "damn so\n",
      "{'url': '/inmueble/venta-de-departamento-en-del-aire-san-luis-3-dormitorios-13496798', 'title': 'ÂĄPronto Inicio de Obra! - Parque Sur 459', 'address': 'Av. Parque Sur  459, CORPAC, San Isidro'}\n",
      "damn so\n",
      "{'url': '/inmueble/venta-de-departamento-en-barranco-lima-3-dormitorios-ascensor-13406232', 'title': 'ÂĄPronto Inicio de Obra! - Parque Sur 459', 'address': 'Av. Parque Sur  459, CORPAC, San Isidro'}\n"
     ]
    }
   ],
   "source": [
    "tihs = 10000\n",
    "count = 1\n",
    "apartments = []\n",
    "fails = 0\n",
    "# count is for page counter\n",
    "while count < 5:\n",
    "    hdr = {'User-Agent': 'Mozilla/5.0'}\n",
    "    print(apartments_url)\n",
    "    req = urllib2.Request(apartments_url, headers=hdr)\n",
    "    apartmentsBsObj = getSoupObj(req)\n",
    "    print(type(apartmentsBsObj))\n",
    "#     objs = apartmentsBsObj.findAll('article', {'class': 'b-card-item js-card-item b-card-item--proyecto-destacado'})\n",
    "     \n",
    "    objs = apartmentsBsObj.findAll('div', {'class': 'posting-card highlighted'})\n",
    "#     objsSeen = apartmentsBsObj\n",
    "    print('In page {} we found {} apartments'.format(count, len(objs)))\n",
    "    for obj in objs:\n",
    "#         the objA is the object with <a> label in obj\n",
    "\n",
    "        apartment['url'] = obj['data-to-posting']\n",
    "        try:\n",
    "            get_apartment(apartment)\n",
    "        except:\n",
    "            fails+=1\n",
    "            print('damn so')\n",
    "        print(apartment)\n",
    "        apartments.append(apartment)\n",
    "        \n",
    "#         break\n",
    "\n",
    "        \n",
    "    count +=1\n",
    "    break"
   ]
  },
  {
   "cell_type": "code",
   "execution_count": 196,
   "metadata": {},
   "outputs": [
    {
     "data": {
      "text/plain": [
       "5"
      ]
     },
     "execution_count": 196,
     "metadata": {},
     "output_type": "execute_result"
    }
   ],
   "source": [
    "fails"
   ]
  },
  {
   "cell_type": "code",
   "execution_count": null,
   "metadata": {},
   "outputs": [],
   "source": [
    "class building:\n",
    "    def __init__(self, buildingType):\n",
    "        self.buildingType = buildingType\n",
    "    \n",
    "    "
   ]
  },
  {
   "cell_type": "code",
   "execution_count": 27,
   "metadata": {},
   "outputs": [
    {
     "ename": "SyntaxError",
     "evalue": "invalid syntax (<ipython-input-27-b7843a038499>, line 2)",
     "output_type": "error",
     "traceback": [
      "\u001b[0;36m  File \u001b[0;32m\"<ipython-input-27-b7843a038499>\"\u001b[0;36m, line \u001b[0;32m2\u001b[0m\n\u001b[0;31m    def __init__(self)\u001b[0m\n\u001b[0m                      ^\u001b[0m\n\u001b[0;31mSyntaxError\u001b[0m\u001b[0;31m:\u001b[0m invalid syntax\n"
     ]
    }
   ],
   "source": [
    "class apartment:\n",
    "    def __init__(self):\n",
    "        "
   ]
  },
  {
   "cell_type": "code",
   "execution_count": 198,
   "metadata": {},
   "outputs": [],
   "source": [
    "def get_apartment(apartment):\n",
    "    \n",
    "    apartment_url = base_url.format(apartment['url'])\n",
    "#     print(apartment_url)\n",
    "    req = urllib2.Request(apartment_url)\n",
    "    apartmentObj = getSoupObj(req)\n",
    "#     print(apartmentObj)\n",
    "    \n",
    "    if apartmentObj == -1:\n",
    "        return\n",
    "#     print(apartment['url'])\n",
    "    get_text(apartment, apartmentObj, 'title', 'info-title', 'h2')\n",
    "    get_text(apartment, apartmentObj, 'address', 'info-location', 'h2')\n",
    "#     get_text(apartment, apartmentObj, 'features', 'e-features', 'p')\n",
    "#     get_text(apartment, apartmentObj, 'intial_price', 'e-totalPrice', 'p')\n",
    "#     data_aux_general_info = apartmentObj.find('div', {'class': 'b-wrap-interbank u-flex-wrap'}).text\n",
    "#     data_aux_real_state_info = apartmentObj.find('div', {'class': 'b-contributing-company u-flex-wrap'}).text\n",
    "#     contributing_company_data = data_aux_real_state_info.split('\\n\\n')\n",
    "#     general_info = data_aux_general_info.split('\\n\\n')\n",
    "    \n",
    "#     get_general_info(general_info, apartment)\n",
    "#     get_general_info(contributing_company_data, apartment, 0)\n",
    "#     print('send memes')\n",
    "    \n",
    "#     print(apartment)\n",
    "#     print(address.text)\n"
   ]
  },
  {
   "cell_type": "code",
   "execution_count": 197,
   "metadata": {},
   "outputs": [],
   "source": [
    "def get_text(obj, objBs, feature, tag, marker, inplace=True):\n",
    "    new_feature = objBs.find(marker, {'class': tag})\n",
    "#     print(new_feature)\n",
    "    if inplace:\n",
    "        obj[feature] = new_feature.text\n",
    "    else:\n",
    "        return new_feature.text"
   ]
  },
  {
   "cell_type": "code",
   "execution_count": 179,
   "metadata": {},
   "outputs": [],
   "source": [
    "def get_general_info(general_info, obj, option= 1):\n",
    "    general_info = general_info[1:]\n",
    "    general_info = general_info[:-1]\n",
    "    \n",
    "    if option:\n",
    "        state_delivery = general_info[0].split('\\n')\n",
    "        obj['status'] = state_delivery[0]\n",
    "\n",
    "        if len(state_delivery)>1:\n",
    "            obj['delivery_date'] = state_delivery[1]\n",
    "    index = option\n",
    "\n",
    "    for i in range(index, len(general_info)):\n",
    "    \n",
    "        data_aux = general_info[i].split('\\n')\n",
    "        data_aux = remove_blanks(data_aux, '')\n",
    "#         index_data = len(data_aux)\n",
    "        obj[dictionary[data_aux[0]]]= data_aux[1]\n",
    "        "
   ]
  },
  {
   "cell_type": "code",
   "execution_count": 178,
   "metadata": {},
   "outputs": [],
   "source": [
    "def remove_blanks(current_list, pattern):\n",
    "    final_list = [item for item in current_list if elem != pattern]\n",
    "    return final_list"
   ]
  },
  {
   "cell_type": "code",
   "execution_count": null,
   "metadata": {},
   "outputs": [],
   "source": [
    "def get_real_estate(real_estate):\n",
    "    "
   ]
  }
 ],
 "metadata": {
  "kernelspec": {
   "display_name": "Python 3",
   "language": "python",
   "name": "python3"
  },
  "language_info": {
   "codemirror_mode": {
    "name": "ipython",
    "version": 3
   },
   "file_extension": ".py",
   "mimetype": "text/x-python",
   "name": "python",
   "nbconvert_exporter": "python",
   "pygments_lexer": "ipython3",
   "version": "3.7.4"
  }
 },
 "nbformat": 4,
 "nbformat_minor": 2
}
