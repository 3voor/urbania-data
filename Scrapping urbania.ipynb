{
 "cells": [
  {
   "cell_type": "markdown",
   "metadata": {},
   "source": [
    "## Scrapping urbania\n",
    "\n",
    "The goal of this notebook is to scrape data from https://urbania.pe/ and store it on a mongo databse"
   ]
  },
  {
   "cell_type": "markdown",
   "metadata": {},
   "source": [
    "### Libraries import"
   ]
  },
  {
   "cell_type": "code",
   "execution_count": 1,
   "metadata": {},
   "outputs": [],
   "source": [
    "import math\n",
    "import numpy as np\n",
    "import pymongo\n",
    "import re \n",
    "import urllib.request as urllib2\n",
    "import datetime\n",
    "\n",
    "from time import sleep\n",
    "from bs4 import BeautifulSoup\n",
    "\n",
    "from constants import *"
   ]
  },
  {
   "cell_type": "code",
   "execution_count": 2,
   "metadata": {},
   "outputs": [],
   "source": [
    "# bsae urls to use\n",
    "base_url = 'https://urbania.pe{}'\n",
    "apartments_url = 'https://urbania.pe/buscar/venta-de-departamentos'\n"
   ]
  },
  {
   "cell_type": "markdown",
   "metadata": {},
   "source": [
    "### Define database connections"
   ]
  },
  {
   "cell_type": "code",
   "execution_count": 5,
   "metadata": {},
   "outputs": [],
   "source": [
    "uri = \"mongodb://{}:{}@{}/{}\".format(username, password, hostlist, database)\n",
    "client = pymongo.MongoClient(uri)\n",
    "db = client['urbania']"
   ]
  },
  {
   "cell_type": "code",
   "execution_count": 29,
   "metadata": {},
   "outputs": [
    {
     "data": {
      "text/plain": [
       "[{'_id': ObjectId('5deb3aba3dadd940d2148a36'), 'name': 'gonzalo'},\n",
       " {'_id': ObjectId('5dec891299df02824e747081'), 'name': 'jay'}]"
      ]
     },
     "execution_count": 29,
     "metadata": {},
     "output_type": "execute_result"
    }
   ],
   "source": [
    "list(db['admin'].find())"
   ]
  },
  {
   "cell_type": "code",
   "execution_count": 7,
   "metadata": {},
   "outputs": [],
   "source": [
    "apartmentsdb = db['apartments']"
   ]
  },
  {
   "cell_type": "markdown",
   "metadata": {},
   "source": [
    "### Here we put the logic to get the data"
   ]
  },
  {
   "cell_type": "code",
   "execution_count": 13,
   "metadata": {},
   "outputs": [],
   "source": [
    "def getSoupObj(url):\n",
    "    sleep(1.5)\n",
    "    try:\n",
    "        r = urllib2.urlopen(url)\n",
    "    except UnicodeEncodeError as e:\n",
    "        return None\n",
    "    html = r.read()\n",
    "    htmltext = html.decode('ISO-8859-2')\n",
    "    return BeautifulSoup(htmltext, 'lxml')"
   ]
  },
  {
   "cell_type": "code",
   "execution_count": 134,
   "metadata": {},
   "outputs": [],
   "source": [
    "dictionary = {\n",
    "    'Tipos Dptos.': 'apartment_type',\n",
    "    'Dpto.': 'department',\n",
    "    'Provincia': 'province',\n",
    "    'Distrito': 'district',\n",
    "    'Urb.': 'urbanization',\n",
    "    'Torres': 'towers',\n",
    "    'Inmuebles': 'properties',\n",
    "    'Ascensores': 'elevators',\n",
    "    'NÂ°pisos': 'n_floors',\n",
    "    'Cocheras': 'garages',\n",
    "    'Referencia': 'reference'\n",
    "}"
   ]
  },
  {
   "cell_type": "code",
   "execution_count": null,
   "metadata": {},
   "outputs": [
    {
     "name": "stdout",
     "output_type": "stream",
     "text": [
      "https://urbania.pe/buscar/venta-de-departamentos\n",
      "In page 1 we found 11 apartments\n"
     ]
    }
   ],
   "source": [
    "tihs = 10000\n",
    "count = 1\n",
    "apartments = []\n",
    "# page \n",
    "while count < 2:\n",
    "    hdr = {'User-Agent': 'Mozilla/5.0'}\n",
    "    print(apartments_url)\n",
    "    req = urllib2.Request(apartments_url, headers=hdr)\n",
    "    apartmentsBsObj = getSoupObj(req)\n",
    "    \n",
    "    objs = apartmentsBsObj.findAll('article', {'class': 'b-card-item js-card-item b-card-item--proyecto-destacado'})\n",
    "#     objsSeen = apartmentsBsObj\n",
    "    print('In page {} we found {} apartments'.format(count, len(objs)))\n",
    "    for obj in objs:\n",
    "        \n",
    "#         the objA is the object with <a> label in obj\n",
    "        objA = obj.find('a')\n",
    "    \n",
    "        if objA is None: continue\n",
    "            \n",
    "#         objA = objA.text\n",
    "        apartment = {}\n",
    "        \n",
    "        apartment['_id'] = obj['data-identifier']\n",
    "        apartment['url'] = objA['href']\n",
    "#         print(type(obj), type(objA))\n",
    "#         print(obj['data-identifier'])\n",
    "        get_apartment(apartment)\n",
    "        print(apartment)\n",
    "        apartments.append(apartment)\n",
    "        \n",
    "        \n",
    "    count +=1\n",
    "    break"
   ]
  },
  {
   "cell_type": "code",
   "execution_count": null,
   "metadata": {},
   "outputs": [],
   "source": [
    "class building:\n",
    "    def __init__(self, buildingType):\n",
    "        self.buildingType = buildingType\n",
    "    \n",
    "    "
   ]
  },
  {
   "cell_type": "code",
   "execution_count": 27,
   "metadata": {},
   "outputs": [
    {
     "ename": "SyntaxError",
     "evalue": "invalid syntax (<ipython-input-27-b7843a038499>, line 2)",
     "output_type": "error",
     "traceback": [
      "\u001b[0;36m  File \u001b[0;32m\"<ipython-input-27-b7843a038499>\"\u001b[0;36m, line \u001b[0;32m2\u001b[0m\n\u001b[0;31m    def __init__(self)\u001b[0m\n\u001b[0m                      ^\u001b[0m\n\u001b[0;31mSyntaxError\u001b[0m\u001b[0;31m:\u001b[0m invalid syntax\n"
     ]
    }
   ],
   "source": [
    "class apartment:\n",
    "    def __init__(self):\n",
    "        "
   ]
  },
  {
   "cell_type": "code",
   "execution_count": 72,
   "metadata": {},
   "outputs": [],
   "source": [
    "def get_apartment(apartment):\n",
    "    \n",
    "    apartment_url = base_url.format(apartment['url'])\n",
    "#     print(apartment_url)\n",
    "    req = urllib2.Request(apartment_url)\n",
    "    apartmentObj = getSoupObj(req)\n",
    "#     print(apartmentObj)\n",
    "    \n",
    "    if apartmentObj == -1:\n",
    "        return\n",
    "    \n",
    "    get_text(apartment, apartmentObj, 'title', 'e-title e-subtitle--with-logo', 'h1')\n",
    "    get_text(apartment, apartmentObj, 'address', 'e-subtitle e-subtitle--with-logo', 'p')\n",
    "    get_text(apartment, apartmentObj, 'features', 'e-features', 'p')\n",
    "    get_text(apartment, apartmentObj, 'intial_price', 'e-totalPrice', 'p')\n",
    "    data_aux = apartmentObj.find('div', {'class': 'b-wrap-interbank u-flex-wrap'}).text\n",
    "\n",
    "    general_info = data_aux.split('\\n\\n')\n",
    "    \n",
    "    get_general_info(general_info, apartment)\n",
    "#     print('send memes')\n",
    "    \n",
    "#     print(apartment)\n",
    "#     print(address.text)\n"
   ]
  },
  {
   "cell_type": "code",
   "execution_count": 55,
   "metadata": {},
   "outputs": [],
   "source": [
    "def get_text(obj, objBs, feature, tag, marker, inplace=True):\n",
    "    new_feature = objBs.find(marker, {'class': tag})\n",
    "    if inplace:\n",
    "        obj[feature] = new_feature.text\n",
    "    else:\n",
    "        return new_feature.text"
   ]
  },
  {
   "cell_type": "code",
   "execution_count": 132,
   "metadata": {},
   "outputs": [],
   "source": [
    "def get_general_info(general_info, obj):\n",
    "    general_info = general_info[1:]\n",
    "    general_info = general_info[:-1]\n",
    "#     print(general_info)\n",
    "    state_delivery = general_info[0].split('\\n')\n",
    "    obj['status'] = state_delivery[0]\n",
    "\n",
    "    if state_delivery[0] != 'ESTRENO':\n",
    "        obj['delivery_date'] = state_delivery[1]\n",
    "\n",
    "    length = len(general_info)/2\n",
    "#     print(general_info)\n",
    "    for i in range(1, len(general_info)):\n",
    "        data_aux = general_info[i].split('\\n')\n",
    "        obj[dictionary[data_aux[1]]]= data_aux[2]\n",
    "    "
   ]
  },
  {
   "cell_type": "code",
   "execution_count": null,
   "metadata": {},
   "outputs": [],
   "source": [
    "def get_real_estate(real_estate):\n",
    "    "
   ]
  }
 ],
 "metadata": {
  "kernelspec": {
   "display_name": "Python 3",
   "language": "python",
   "name": "python3"
  },
  "language_info": {
   "codemirror_mode": {
    "name": "ipython",
    "version": 3
   },
   "file_extension": ".py",
   "mimetype": "text/x-python",
   "name": "python",
   "nbconvert_exporter": "python",
   "pygments_lexer": "ipython3",
   "version": "3.7.4"
  }
 },
 "nbformat": 4,
 "nbformat_minor": 2
}
