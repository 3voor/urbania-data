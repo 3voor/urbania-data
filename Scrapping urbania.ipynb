{
 "cells": [
  {
   "cell_type": "markdown",
   "metadata": {},
   "source": [
    "## Scrapping urbania\n",
    "\n",
    "The goal of this notebook is to scrape data from https://urbania.pe/ and store it on a mongo databse"
   ]
  },
  {
   "cell_type": "markdown",
   "metadata": {},
   "source": [
    "### Libraries import"
   ]
  },
  {
   "cell_type": "code",
   "execution_count": 220,
   "metadata": {},
   "outputs": [],
   "source": [
    "import math\n",
    "import numpy as np\n",
    "import pymongo\n",
    "import re \n",
    "import urllib.request as urllib2\n",
    "import datetime\n",
    "\n",
    "from time import sleep\n",
    "from bs4 import BeautifulSoup\n",
    "\n",
    "from constants import *\n",
    "\n",
    "import pandas as pd"
   ]
  },
  {
   "cell_type": "code",
   "execution_count": 2,
   "metadata": {},
   "outputs": [],
   "source": [
    "# bsae urls to use\n",
    "base_url = 'https://urbania.pe{}'\n",
    "apartments_url = 'https://urbania.pe/buscar/venta-de-departamentos'\n"
   ]
  },
  {
   "cell_type": "markdown",
   "metadata": {},
   "source": [
    "### Define database connections"
   ]
  },
  {
   "cell_type": "code",
   "execution_count": 5,
   "metadata": {},
   "outputs": [],
   "source": [
    "uri = \"mongodb://{}:{}@{}/{}\".format(username, password, hostlist, database)\n",
    "client = pymongo.MongoClient(uri)\n",
    "db = client['urbania']"
   ]
  },
  {
   "cell_type": "code",
   "execution_count": 29,
   "metadata": {},
   "outputs": [
    {
     "data": {
      "text/plain": [
       "[{'_id': ObjectId('5deb3aba3dadd940d2148a36'), 'name': 'gonzalo'},\n",
       " {'_id': ObjectId('5dec891299df02824e747081'), 'name': 'jay'}]"
      ]
     },
     "execution_count": 29,
     "metadata": {},
     "output_type": "execute_result"
    }
   ],
   "source": [
    "list(db['admin'].find())"
   ]
  },
  {
   "cell_type": "code",
   "execution_count": 7,
   "metadata": {},
   "outputs": [],
   "source": [
    "apartmentsdb = db['apartments']"
   ]
  },
  {
   "cell_type": "markdown",
   "metadata": {},
   "source": [
    "### Here we put the logic to get the data"
   ]
  },
  {
   "cell_type": "code",
   "execution_count": 13,
   "metadata": {},
   "outputs": [],
   "source": [
    "def getSoupObj(url):\n",
    "    sleep(1.5)\n",
    "    try:\n",
    "        r = urllib2.urlopen(url)\n",
    "    except UnicodeEncodeError as e:\n",
    "        return None\n",
    "    html = r.read()\n",
    "    htmltext = html.decode('ISO-8859-2')\n",
    "    return BeautifulSoup(htmltext, 'lxml')"
   ]
  },
  {
   "cell_type": "code",
   "execution_count": 159,
   "metadata": {},
   "outputs": [],
   "source": [
    "dictionary = {\n",
    "    'Tipos Dptos.': 'apartment_type',\n",
    "    'Dpto.': 'department',\n",
    "    'Provincia': 'province',\n",
    "    'Distrito': 'district',\n",
    "    'Urb.': 'urbanization',\n",
    "    'Torres': 'towers',\n",
    "    'Inmuebles': 'properties',\n",
    "    'Ascensores': 'elevators',\n",
    "    'NÂ°pisos': 'n_floors',\n",
    "    'Cocheras': 'garages',\n",
    "    'Referencia': 'reference',\n",
    "    'Construye': 'builds',\n",
    "    'Comercializa': 'sells',\n",
    "    'Financia': 'finances'\n",
    "}"
   ]
  },
  {
   "cell_type": "code",
   "execution_count": 309,
   "metadata": {
    "scrolled": true
   },
   "outputs": [
    {
     "name": "stdout",
     "output_type": "stream",
     "text": [
      "https://urbania.pe/buscar/venta-de-departamentos\n",
      "<class 'bs4.BeautifulSoup'>\n",
      "In page 1 we found 14 apartments\n",
      "{'url': '/inmueble/proyecto-altea-condominio-lima-magdalena-inmobiliaria-eureka-sac-empresa-8003929', '_id': 8003929, 'title': 'Altea Condominio', 'address': 'Jr. Hermilio Valdizan NÂ°150 Magdalena, Magdalena, Lima', 'description': '\\n\\nALTEA es un exclusivo proyecto situado en una ubicaciĂłn privilegiada frente al mar. A pasos del malecĂłn Grau de Magdalena de Mar, donde podrĂĄs relajarte, practicar deportes y actividades familiares con la complicidad de la naturaleza. Cuenta con departamentos Flats y DĂşplex desde 52 hasta 106 M2 de 2 y 3 dormitorios. La calidad se refleja en el diseĂąo, distribuciĂłn de espacios, ventilaciĂłn y luminosidad en todos sus ambientes, asĂ\\xad como tambiĂŠn en los acabados de primer nivel. Respecto a las ĂĄreas comunes, contamos con sala de niĂąos en el primer piso, la cual se vincula con un patio central con jardĂ\\xadn vertical. Asimismo, en el piso 13 contamos con una hermosa terraza, zona de parrillas y un lounge, los cuales podrĂĄs disfrutar con tu familia y amigos.Jr. Hermilio Valdizan NÂ°150 Magdalena\\n\\n', 'status': '\\n\\t\\t\\t\\t\\tPre-venta en construcciĂłn\\n\\t\\t\\t\\t', '\\n\\t\\t\\t\\t\\tEntrega\\n\\t\\t\\t\\t': '\\n-\\n', '\\n\\t\\t\\t\\t\\tMetros techados\\n\\t\\t\\t\\t': '\\n50 a 105 mÂ˛\\n', '\\n\\t\\t\\t\\t\\tUnidades\\n\\t\\t\\t\\t': '\\n54\\n', '\\n\\t\\t\\t\\t\\tDormitorios\\n\\t\\t\\t\\t': '\\n2 a 3\\n', '\\n\\t\\t\\t\\t\\tMetros totales\\n\\t\\t\\t\\t': '\\n50 a 105 mÂ˛\\n', '\\n\\t\\t\\t\\t\\tEstacionamientos\\n\\t\\t\\t\\t': '\\n - \\n'}\n"
     ]
    },
    {
     "data": {
      "text/html": [
       "<div>\n",
       "<style scoped>\n",
       "    .dataframe tbody tr th:only-of-type {\n",
       "        vertical-align: middle;\n",
       "    }\n",
       "\n",
       "    .dataframe tbody tr th {\n",
       "        vertical-align: top;\n",
       "    }\n",
       "\n",
       "    .dataframe thead th {\n",
       "        text-align: right;\n",
       "    }\n",
       "</style>\n",
       "<table border=\"1\" class=\"dataframe\">\n",
       "  <thead>\n",
       "    <tr style=\"text-align: right;\">\n",
       "      <th></th>\n",
       "      <th>Dormitorios</th>\n",
       "      <th>Entrega</th>\n",
       "      <th>Estacionamientos</th>\n",
       "      <th>Metros techados</th>\n",
       "      <th>Metros totales</th>\n",
       "      <th>Unidades</th>\n",
       "      <th>_id</th>\n",
       "      <th>address</th>\n",
       "      <th>description</th>\n",
       "      <th>status</th>\n",
       "      <th>title</th>\n",
       "      <th>url</th>\n",
       "    </tr>\n",
       "  </thead>\n",
       "  <tbody>\n",
       "    <tr>\n",
       "      <th>0</th>\n",
       "      <td>\\n2 a 3\\n</td>\n",
       "      <td>\\n-\\n</td>\n",
       "      <td>\\n - \\n</td>\n",
       "      <td>\\n50 a 105 mÂ˛\\n</td>\n",
       "      <td>\\n50 a 105 mÂ˛\\n</td>\n",
       "      <td>\\n54\\n</td>\n",
       "      <td>8003929</td>\n",
       "      <td>Jr. Hermilio Valdizan NÂ°150 Magdalena, Magdal...</td>\n",
       "      <td>\\n\\nALTEA es un exclusivo proyecto situado en ...</td>\n",
       "      <td>\\n\\t\\t\\t\\t\\tPre-venta en construcciĂłn\\n\\t\\t\\t\\t</td>\n",
       "      <td>Altea Condominio</td>\n",
       "      <td>/inmueble/proyecto-altea-condominio-lima-magda...</td>\n",
       "    </tr>\n",
       "  </tbody>\n",
       "</table>\n",
       "</div>"
      ],
      "text/plain": [
       "  \\n\\t\\t\\t\\t\\tDormitorios\\n\\t\\t\\t\\t \\n\\t\\t\\t\\t\\tEntrega\\n\\t\\t\\t\\t  \\\n",
       "0                         \\n2 a 3\\n                         \\n-\\n   \n",
       "\n",
       "  \\n\\t\\t\\t\\t\\tEstacionamientos\\n\\t\\t\\t\\t  \\\n",
       "0                                \\n - \\n   \n",
       "\n",
       "  \\n\\t\\t\\t\\t\\tMetros techados\\n\\t\\t\\t\\t \\n\\t\\t\\t\\t\\tMetros totales\\n\\t\\t\\t\\t  \\\n",
       "0                      \\n50 a 105 mÂ˛\\n                     \\n50 a 105 mÂ˛\\n   \n",
       "\n",
       "  \\n\\t\\t\\t\\t\\tUnidades\\n\\t\\t\\t\\t      _id  \\\n",
       "0                         \\n54\\n  8003929   \n",
       "\n",
       "                                             address  \\\n",
       "0  Jr. Hermilio Valdizan NÂ°150 Magdalena, Magdal...   \n",
       "\n",
       "                                         description  \\\n",
       "0  \\n\\nALTEA es un exclusivo proyecto situado en ...   \n",
       "\n",
       "                                             status             title  \\\n",
       "0  \\n\\t\\t\\t\\t\\tPre-venta en construcciĂłn\\n\\t\\t\\t\\t  Altea Condominio   \n",
       "\n",
       "                                                 url  \n",
       "0  /inmueble/proyecto-altea-condominio-lima-magda...  "
      ]
     },
     "execution_count": 309,
     "metadata": {},
     "output_type": "execute_result"
    }
   ],
   "source": [
    "tihs = 10000\n",
    "count = 1\n",
    "apartments = []\n",
    "fails = 0\n",
    "threshold = 100000000\n",
    "counter = 0\n",
    "# count is for page counter\n",
    "while count < 5:\n",
    "    hdr = {'User-Agent': 'Mozilla/5.0'}\n",
    "    print(apartments_url)\n",
    "    req = urllib2.Request(apartments_url, headers=hdr)\n",
    "    apartmentsBsObj = getSoupObj(req)\n",
    "    print(type(apartmentsBsObj))\n",
    "#     objs = apartmentsBsObj.findAll('article', {'class': 'b-card-item js-card-item b-card-item--proyecto-destacado'})\n",
    "     \n",
    "    objs = apartmentsBsObj.findAll('div', {'class': 'posting-card highlighted'})\n",
    "#     objsSeen = apartmentsBsObj\n",
    "    print('In page {} we found {} apartments'.format(count, len(objs)))\n",
    "    for obj in objs:\n",
    "#         the objA is the object with <a> label in obj\n",
    "        counter +=1\n",
    "        apartment = {}\n",
    "        apartment['url'] = obj['data-to-posting']\n",
    "        apartment['_id'] = int(apartment['url'].split('-')[-1])\n",
    "        if apartment['_id'] < threshold:\n",
    "            try:\n",
    "                get_apartment(apartment)\n",
    "            except:\n",
    "                \n",
    "                threshold = apartment['_id'] if (apartment['_id'] < threshold) else threshold\n",
    "                fails+=1\n",
    "                print('damn so')\n",
    "        else:\n",
    "            print('xd')\n",
    "        print(apartment)\n",
    "        apartments.append(apartment)\n",
    "        \n",
    "#         if counter == 10:\n",
    "#             break\n",
    "        break\n",
    "\n",
    "        \n",
    "    count +=1\n",
    "    break\n",
    "\n",
    "pd.DataFrame(apartments)"
   ]
  },
  {
   "cell_type": "code",
   "execution_count": 291,
   "metadata": {},
   "outputs": [],
   "source": [
    "def get_apartment(apartment):\n",
    "    \n",
    "    apartment_url = base_url.format(apartment['url'])\n",
    "#     print(apartment_url)\n",
    "    req = urllib2.Request(apartment_url)\n",
    "    apartmentObj = getSoupObj(req)\n",
    "#     print(apartmentObj)\n",
    "    \n",
    "    if apartmentObj == -1:\n",
    "        return\n",
    "#     print(apartment['url'])\n",
    "    get_text(apartment, apartmentObj, 'title', 'info-title', 'h2')\n",
    "#     print(apartment)\n",
    "    get_text(apartment, apartmentObj, 'address', 'info-location', 'h2')\n",
    "    get_text(apartment, apartmentObj, 'description', 'section-description', 'div')\n",
    "#     \n",
    "#     get_text(apartment, apartmentObj, 'status', 'status done current', 'div', 0)\n",
    "    new_feature = apartmentObj.find('div', {'class': 'status done current'})\n",
    "    new_feature = new_feature.find('span', {'class': 'label'})\n",
    "    apartment['status'] = new_feature.text\n",
    "    \n",
    "    get_status(apartment, apartmentObj)\n"
   ]
  },
  {
   "cell_type": "code",
   "execution_count": 295,
   "metadata": {},
   "outputs": [],
   "source": [
    "def get_status(obj, objBs):\n",
    "#     status-columns\n",
    "    status_columns = objBs.find('div', {'class': 'status-columns'})\n",
    "    columns=status_columns.findAll('div', {'class': 'column'})\n",
    "#     get_columns_info(obj, columns)\n",
    "#     pd.Series(columns).apply(get_columns_info,(obj))\n",
    "#     print(len(columns))\n",
    "    pd.Series(columns).apply(get_columns_info, args= (obj,))"
   ]
  },
  {
   "cell_type": "code",
   "execution_count": 306,
   "metadata": {},
   "outputs": [],
   "source": [
    "def get_columns_info(column, obj):\n",
    "#     print('hello')\n",
    "#     print(column)\n",
    "    rows=column.findAll('div', {'class': 'row'})\n",
    "    pd.Series(rows).apply(get_rows_info, args=(obj,))"
   ]
  },
  {
   "cell_type": "code",
   "execution_count": 308,
   "metadata": {},
   "outputs": [],
   "source": [
    "def get_rows_info(row, obj):\n",
    "#     print(row)\n",
    "\n",
    "    label = row.find('span', {'class': 'label'})\n",
    "    data = row.find('span', {'class': 'data'})\n",
    "#     print(label, row)\n",
    "    obj[label.text] = data.text"
   ]
  },
  {
   "cell_type": "code",
   "execution_count": 245,
   "metadata": {},
   "outputs": [],
   "source": [
    "class building:\n",
    "    def __init__(self, buildingType):\n",
    "        self.buildingType = buildingType\n",
    "    \n",
    "    "
   ]
  },
  {
   "cell_type": "code",
   "execution_count": 27,
   "metadata": {},
   "outputs": [
    {
     "ename": "SyntaxError",
     "evalue": "invalid syntax (<ipython-input-27-b7843a038499>, line 2)",
     "output_type": "error",
     "traceback": [
      "\u001b[0;36m  File \u001b[0;32m\"<ipython-input-27-b7843a038499>\"\u001b[0;36m, line \u001b[0;32m2\u001b[0m\n\u001b[0;31m    def __init__(self)\u001b[0m\n\u001b[0m                      ^\u001b[0m\n\u001b[0;31mSyntaxError\u001b[0m\u001b[0;31m:\u001b[0m invalid syntax\n"
     ]
    }
   ],
   "source": [
    "class apartment:\n",
    "    def __init__(self):\n",
    "        "
   ]
  },
  {
   "cell_type": "code",
   "execution_count": 197,
   "metadata": {},
   "outputs": [],
   "source": [
    "def get_text(obj, objBs, feature, tag, marker, inplace=True):\n",
    "    new_feature = objBs.find(marker, {'class': tag})\n",
    "#     print(new_feature)\n",
    "    if inplace:\n",
    "        obj[feature] = new_feature.text\n",
    "    else:\n",
    "        return new_feature.text"
   ]
  },
  {
   "cell_type": "code",
   "execution_count": 179,
   "metadata": {},
   "outputs": [],
   "source": [
    "def get_general_info(general_info, obj, option= 1):\n",
    "    general_info = general_info[1:]\n",
    "    general_info = general_info[:-1]\n",
    "    \n",
    "    if option:\n",
    "        state_delivery = general_info[0].split('\\n')\n",
    "        obj['status'] = state_delivery[0]\n",
    "\n",
    "        if len(state_delivery)>1:\n",
    "            obj['delivery_date'] = state_delivery[1]\n",
    "    index = option\n",
    "\n",
    "    for i in range(index, len(general_info)):\n",
    "    \n",
    "        data_aux = general_info[i].split('\\n')\n",
    "        data_aux = remove_blanks(data_aux, '')\n",
    "#         index_data = len(data_aux)\n",
    "        obj[dictionary[data_aux[0]]]= data_aux[1]\n",
    "        "
   ]
  },
  {
   "cell_type": "code",
   "execution_count": 178,
   "metadata": {},
   "outputs": [],
   "source": [
    "def remove_blanks(current_list, pattern):\n",
    "    final_list = [item for item in current_list if elem != pattern]\n",
    "    return final_list"
   ]
  },
  {
   "cell_type": "code",
   "execution_count": null,
   "metadata": {},
   "outputs": [],
   "source": [
    "def get_real_estate(real_estate):\n",
    "    "
   ]
  }
 ],
 "metadata": {
  "kernelspec": {
   "display_name": "Python 3",
   "language": "python",
   "name": "python3"
  },
  "language_info": {
   "codemirror_mode": {
    "name": "ipython",
    "version": 3
   },
   "file_extension": ".py",
   "mimetype": "text/x-python",
   "name": "python",
   "nbconvert_exporter": "python",
   "pygments_lexer": "ipython3",
   "version": "3.7.4"
  }
 },
 "nbformat": 4,
 "nbformat_minor": 2
}
